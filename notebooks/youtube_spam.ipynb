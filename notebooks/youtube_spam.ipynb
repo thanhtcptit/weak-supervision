{
 "cells": [
  {
   "cell_type": "code",
   "execution_count": 1,
   "id": "e1b5cfb7-f4e0-449a-974f-28777e28c71a",
   "metadata": {},
   "outputs": [],
   "source": [
    "%matplotlib inline\n",
    "%reload_ext autoreload\n",
    "%autoreload 2\n",
    "\n",
    "import os\n",
    "os.chdir(\"..\")\n",
    "os.environ[\"TF_CPP_MIN_LOG_LEVEL\"] = \"3\"\n",
    "os.environ[\"PYTHONHASHSEED\"] = \"0\"\n",
    "import importlib\n",
    "import collections\n",
    "\n",
    "from pathlib import Path\n",
    "from tqdm import tqdm\n",
    "\n",
    "import numpy as np\n",
    "import pandas as pd\n",
    "pd.set_option(\"display.max_colwidth\", 0)\n",
    "\n",
    "from snorkel.labeling import LabelingFunction, PandasLFApplier, LFAnalysis, filter_unlabeled_dataframe\n",
    "from snorkel.labeling.model import LabelModel\n",
    "from snorkel.utils import probs_to_preds\n",
    "\n",
    "from sklearn.feature_extraction.text import CountVectorizer, TfidfVectorizer\n",
    "from sklearn.linear_model import LogisticRegression\n",
    "\n",
    "from src.data.utils import load_youtube_spam_dataset"
   ]
  },
  {
   "cell_type": "code",
   "execution_count": 2,
   "id": "212fd2ed-3875-4b78-9b57-11422da42368",
   "metadata": {},
   "outputs": [],
   "source": [
    "SEED = 123\n",
    "np.random.seed(SEED)"
   ]
  },
  {
   "cell_type": "code",
   "execution_count": 3,
   "id": "62d0dd34-d02b-4907-ad61-8284f65687dd",
   "metadata": {},
   "outputs": [],
   "source": [
    "ABSTAIN = -1\n",
    "HAM = 0\n",
    "SPAM = 1"
   ]
  },
  {
   "cell_type": "code",
   "execution_count": 4,
   "id": "58eede70-935c-4ecf-9561-30ad52021055",
   "metadata": {},
   "outputs": [
    {
     "data": {
      "text/plain": [
       "(1566, 195, 195)"
      ]
     },
     "execution_count": 4,
     "metadata": {},
     "output_type": "execute_result"
    }
   ],
   "source": [
    "ROOT_PATH = Path(\"/home/s2210421/dataset/youtube_spam_cmt\")\n",
    "df_train, df_val, df_test = load_youtube_spam_dataset(ROOT_PATH / \"data\", True)\n",
    "Y_test = df_test.label.values\n",
    "\n",
    "len(df_train), len(df_val), len(df_test)"
   ]
  },
  {
   "cell_type": "code",
   "execution_count": 5,
   "id": "4baed89f-7ac6-4313-a2bb-90cec824c5cf",
   "metadata": {},
   "outputs": [
    {
     "data": {
      "text/plain": [
       "(805, 761)"
      ]
     },
     "execution_count": 5,
     "metadata": {},
     "output_type": "execute_result"
    }
   ],
   "source": [
    "df_train_spam = df_train[df_train.label == 1]\n",
    "df_train_ham = df_train[df_train.label == 0]\n",
    "\n",
    "len(df_train_spam), len(df_train_ham)"
   ]
  },
  {
   "cell_type": "code",
   "execution_count": 6,
   "id": "8c226d1e-e358-4c8d-adb7-b673757b8d9c",
   "metadata": {},
   "outputs": [
    {
     "name": "stderr",
     "output_type": "stream",
     "text": [
      "1566it [00:00, 13154.45it/s]\n"
     ]
    }
   ],
   "source": [
    "VOCAB_DIR = ROOT_PATH / \"vocab\"\n",
    "unigram_path = VOCAB_DIR / \"unigrams.csv\"\n",
    "\n",
    "unigrams = collections.defaultdict(list)\n",
    "for i, row in tqdm(df_train.iterrows()):\n",
    "    words = list(set(row[\"text\"].split()))\n",
    "    for w in words:\n",
    "        unigrams[w].append(row[\"label\"])\n",
    "\n",
    "unigrams_freq = {}\n",
    "for w, l in unigrams.items():\n",
    "    unigrams_freq[w] = sum(l) / len(l)"
   ]
  },
  {
   "cell_type": "code",
   "execution_count": 16,
   "id": "ae1a88c8-d190-45f5-813a-8d99d5451437",
   "metadata": {},
   "outputs": [],
   "source": [
    "def keyword_lookup(x, keywords, label):\n",
    "    if any(word in x.text.lower() for word in keywords):\n",
    "        return label\n",
    "    return ABSTAIN\n",
    "\n",
    "\n",
    "def make_keyword_lf(keywords, label=SPAM):\n",
    "    return LabelingFunction(\n",
    "        name=f\"keyword_{keywords[0]}\",\n",
    "        f=keyword_lookup,\n",
    "        resources=dict(keywords=keywords, label=label))\n",
    "\n",
    "\n",
    "def select_dev_example(df):\n",
    "    while True:\n",
    "        example = df.sample(n=1).iloc[0]\n",
    "        # if len(lfs) != 0:\n",
    "        #     has_label = False\n",
    "        #     for lf in lfs:\n",
    "        #         if lf(example) != ABSTAIN:\n",
    "        #             has_label = True\n",
    "        #             break\n",
    "        #     if has_label:\n",
    "        #         continue\n",
    "        return example\n",
    "\n",
    "\n",
    "def select_primitive(example, list_primitives, primitive_freq, primitive_t, use_weight_probs=False):\n",
    "    words = example.text.lower().split()\n",
    "    candidates, candidates_w = [], []\n",
    "    for w in words:\n",
    "        if w not in primitive_freq or (w, example.label) in list_primitives:\n",
    "            continue\n",
    "\n",
    "        if (example.label == 0 and primitive_freq[w] < 1 - primitive_t) or \\\n",
    "           (example.label == 1 and primitive_freq[w] > primitive_t):\n",
    "            candidates.append(w)\n",
    "            if example.label == 1:\n",
    "                candidates_w.append(primitive_freq[w])\n",
    "            else:\n",
    "                candidates_w.append(1 - primitive_freq[w])\n",
    "    if len(candidates) == 0:\n",
    "        return None\n",
    "    candidate_probs = np.exp(candidates_w) / np.sum(np.exp(candidates_w), axis=0)\n",
    "    if use_weight_probs:\n",
    "        primitive = np.random.choice(candidates, size=1, p=candidate_probs)[0]\n",
    "    else:\n",
    "        primitive = np.random.choice(candidates, size=1)[0]\n",
    "    return primitive\n",
    "\n",
    "\n",
    "def build_primitive_lf(df, list_primitives, primitive_freq, primitive_t, use_weight_probs=False):\n",
    "    primitive = None\n",
    "    while primitive is None:\n",
    "        example   = select_dev_example(df)\n",
    "        primitive = select_primitive(example, list_primitives, primitive_freq, primitive_t, use_weight_probs)\n",
    "    return (primitive, example.label), make_keyword_lf(keywords=[primitive], label=example.label)"
   ]
  },
  {
   "cell_type": "code",
   "execution_count": 17,
   "id": "9b8c4e36-621c-4f5d-8dd1-3a8aa8b1b326",
   "metadata": {
    "tags": []
   },
   "outputs": [
    {
     "name": "stdout",
     "output_type": "stream",
     "text": [
      "- Iter 5:\n",
      "LM accuracy: 53.3%\n",
      "LR accuracy: 43.6%\n",
      "- Iter 10:\n",
      "LM accuracy: 54.4%\n",
      "LR accuracy: 44.6%\n",
      "- Iter 15:\n",
      "LM accuracy: 54.9%\n",
      "LR accuracy: 46.2%\n",
      "- Iter 20:\n",
      "LM accuracy: 55.4%\n",
      "LR accuracy: 48.2%\n",
      "- Iter 25:\n",
      "LM accuracy: 53.3%\n",
      "LR accuracy: 48.7%\n",
      "- Iter 30:\n",
      "LM accuracy: 52.3%\n",
      "LR accuracy: 45.1%\n",
      "- Iter 35:\n",
      "LM accuracy: 55.9%\n",
      "LR accuracy: 49.2%\n",
      "- Iter 40:\n",
      "LM accuracy: 55.4%\n",
      "LR accuracy: 49.2%\n",
      "- Iter 45:\n",
      "LM accuracy: 53.3%\n",
      "LR accuracy: 48.7%\n",
      "- Iter 50:\n",
      "LM accuracy: 54.9%\n",
      "LR accuracy: 51.8%\n"
     ]
    }
   ],
   "source": [
    "NUM_ITERS = 50\n",
    "EVAL_EVERY = 5\n",
    "use_weight_probs = False\n",
    "\n",
    "df = None\n",
    "segment_flag = False\n",
    "\n",
    "primitive_t = 0.7\n",
    "list_primitives = []\n",
    "lfs = []\n",
    "for iter in range(1, NUM_ITERS + 1):\n",
    "    if iter == 1:\n",
    "        for _ in range(3):\n",
    "            if segment_flag:\n",
    "                df = df_train_spam\n",
    "            else:\n",
    "                df = df_train_ham\n",
    "            segment_flag = not segment_flag\n",
    "            primitive, lf = build_primitive_lf(df, list_primitives, unigrams_freq, primitive_t, use_weight_probs)\n",
    "            list_primitives.append(primitive)\n",
    "            lfs.append(lf)\n",
    "    else:\n",
    "        if segment_flag:\n",
    "            df = df_train_spam\n",
    "        else:\n",
    "            df = df_train_ham\n",
    "        segment_flag = not segment_flag\n",
    "        primitive, lf = build_primitive_lf(df, list_primitives, unigrams_freq, primitive_t, use_weight_probs)\n",
    "        list_primitives.append(primitive)\n",
    "        lfs.append(lf)\n",
    "    applier = PandasLFApplier(lfs=lfs)\n",
    "    L_train = applier.apply(df=df_train, progress_bar=False)\n",
    "    L_test = applier.apply(df=df_test, progress_bar=False)\n",
    "\n",
    "    if iter % EVAL_EVERY == 0:\n",
    "        print(f\"- Iter {iter}:\")\n",
    "        label_model = LabelModel(cardinality=2, verbose=False)\n",
    "        label_model.fit(L_train=L_train, n_epochs=500, seed=SEED, progress_bar=False)\n",
    "        label_model_acc = label_model.score(\n",
    "            L=L_test, Y=df_test.label.values, tie_break_policy=\"random\")[\"accuracy\"]\n",
    "        print(f\"LM accuracy: {label_model_acc * 100:.1f}%\")\n",
    "\n",
    "        prob_labels = label_model.predict_proba(L=L_train)\n",
    "        df_train_filtered, prob_labels_filtered = filter_unlabeled_dataframe(\n",
    "            X=df_train, y=prob_labels, L=L_train)\n",
    "\n",
    "        vectorizer = TfidfVectorizer()\n",
    "        X_train = vectorizer.fit_transform(df_train_filtered.text.tolist())\n",
    "        X_test = vectorizer.transform(df_test.text.tolist())\n",
    "        \n",
    "        pred_labels_filtered = probs_to_preds(probs=prob_labels_filtered)\n",
    "        sklearn_model = LogisticRegression(C=1e3, solver=\"liblinear\")\n",
    "        sklearn_model.fit(X=X_train, y=pred_labels_filtered)\n",
    "        print(f\"LR accuracy: {sklearn_model.score(X=X_test, y=Y_test) * 100:.1f}%\")"
   ]
  },
  {
   "cell_type": "code",
   "execution_count": null,
   "id": "31a20406-f832-493d-af5f-ea60b5745897",
   "metadata": {},
   "outputs": [],
   "source": [
    "LFAnalysis(L=L_train, lfs=lfs).lf_summary()"
   ]
  },
  {
   "cell_type": "code",
   "execution_count": null,
   "id": "3a48e716-9bf3-4d21-b10f-c749271ab949",
   "metadata": {},
   "outputs": [],
   "source": []
  }
 ],
 "metadata": {
  "kernelspec": {
   "display_name": "Python 3 (ipykernel)",
   "language": "python",
   "name": "python3"
  },
  "language_info": {
   "codemirror_mode": {
    "name": "ipython",
    "version": 3
   },
   "file_extension": ".py",
   "mimetype": "text/x-python",
   "name": "python",
   "nbconvert_exporter": "python",
   "pygments_lexer": "ipython3",
   "version": "3.10.6"
  },
  "vscode": {
   "interpreter": {
    "hash": "f9f85f796d01129d0dd105a088854619f454435301f6ffec2fea96ecbd9be4ac"
   }
  }
 },
 "nbformat": 4,
 "nbformat_minor": 5
}
